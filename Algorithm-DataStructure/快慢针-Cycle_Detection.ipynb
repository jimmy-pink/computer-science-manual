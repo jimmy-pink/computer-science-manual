{
  "cells": [
    {
      "cell_type": "markdown",
      "metadata": {
        "colab_type": "text",
        "id": "view-in-github"
      },
      "source": [
        "<a href=\"https://colab.research.google.com/github/jimmy-pink/computer-science-manual/blob/main/Algorithm-DataStructure/%E5%BF%AB%E6%85%A2%E9%92%88-Cycle_Detection.ipynb\" target=\"_parent\"><img src=\"https://colab.research.google.com/assets/colab-badge.svg\" alt=\"Open In Colab\"/></a>"
      ]
    },
    {
      "cell_type": "markdown",
      "metadata": {
        "id": "zoi193IyHRm5"
      },
      "source": [
        "### 快慢针 Floyd's Cycle-Finding Algorithm\n",
        "\n",
        "#### 核心思想\n",
        "两个指针，快针每次移动2步，慢针每次移动1步。  \n",
        "有环会相遇，无环快针会先结束。\n",
        "\n",
        "#### 复杂度\n",
        "时间复杂度：O(n)  \n",
        "空间复杂度：O(1)（仅需两个指针）\n",
        "\n",
        "#### 用途\n",
        "1. 检查链表是否有环\n",
        "2. 找到环的起点  \n",
        "两针相遇后，将其中一个针移动到链表头，两针都变成慢针，再次相遇就是链表的起点\n",
        "3. 找到单链表的中点  \n",
        "链表无环时，快针到达终点， 慢针到达的位置就是中点。\n",
        "4. 判断链表是否是回文链表  \n",
        "慢针到达中点后，反转后半段链表，然后与前半段对比。"
      ]
    },
    {
      "cell_type": "markdown",
      "metadata": {
        "id": "7jD1lGUoKLNQ"
      },
      "source": [
        "###  141 检查链表是否有环\n"
      ]
    },
    {
      "cell_type": "code",
      "execution_count": 1,
      "metadata": {
        "colab": {
          "base_uri": "https://localhost:8080/"
        },
        "id": "ieOTlp9jLP7k",
        "outputId": "df4b29fe-42d8-414f-cf3f-614ce7f2f802"
      },
      "outputs": [
        {
          "name": "stdout",
          "output_type": "stream",
          "text": [
            "是否有环：  True\n"
          ]
        }
      ],
      "source": [
        "from typing import Optional\n",
        "\n",
        "class ListNode:\n",
        "    def __init__(self, x, n=None):\n",
        "        self.val = x\n",
        "        self.next = n\n",
        "\n",
        "class Solution:\n",
        "    def hasCycle(self, head: Optional[ListNode]) -> bool:\n",
        "        fast = slow = head\n",
        "        while fast and fast.next and fast.next.next:\n",
        "            fast = fast.next.next\n",
        "            slow = slow.next\n",
        "            if fast == slow:\n",
        "                return True\n",
        "        return False\n",
        "\n",
        "\n",
        "# head = [3,2,0,-4], pos = 1\n",
        "head = ListNode(3)\n",
        "four = ListNode(-4)\n",
        "two = ListNode(2, ListNode(0, four))\n",
        "head.next = two\n",
        "four.next = two\n",
        "print(\"是否有环： \", Solution().hasCycle(head))"
      ]
    },
    {
      "cell_type": "markdown",
      "metadata": {
        "id": "64MvVGaUSAJt"
      },
      "source": [
        "### 142 如果链表有环，返回环的起点\n"
      ]
    },
    {
      "cell_type": "code",
      "execution_count": 3,
      "metadata": {
        "colab": {
          "base_uri": "https://localhost:8080/"
        },
        "id": "QlptObYpSE1b",
        "outputId": "d1693be9-e12d-4922-c7bb-5277878be237"
      },
      "outputs": [
        {
          "name": "stdout",
          "output_type": "stream",
          "text": [
            "环的起点  2\n"
          ]
        }
      ],
      "source": [
        "from typing import Optional\n",
        "\n",
        "class ListNode:\n",
        "    def __init__(self, x, n=None):\n",
        "        self.val = x\n",
        "        self.next = n\n",
        "\n",
        "class Solution:\n",
        "    def detectCycle(self, head: Optional[ListNode]) -> Optional[ListNode]:\n",
        "        fast = slow = head\n",
        "        flag = 0\n",
        "        while fast and fast.next:\n",
        "            if flag == 0:\n",
        "                # 判断是否有环\n",
        "                if not fast.next.next :\n",
        "                    return None\n",
        "                fast = fast.next.next\n",
        "                slow = slow.next\n",
        "                if fast == slow:\n",
        "                    # 有环\n",
        "                    fast = head\n",
        "                    flag += 1\n",
        "            else:\n",
        "                # 有环找起点\n",
        "                if fast == slow:\n",
        "                    return fast\n",
        "                fast = fast.next\n",
        "                slow = slow.next\n",
        "\n",
        "\n",
        "        return None\n",
        "\n",
        "\n",
        "# head = [3,2,0,-4], pos = 1\n",
        "head = ListNode(3)\n",
        "four = ListNode(-4)\n",
        "two = ListNode(2, ListNode(0, four))\n",
        "head.next = two\n",
        "four.next = two\n",
        "print(\"环的起点 \", Solution().detectCycle(head).val)"
      ]
    },
    {
      "cell_type": "markdown",
      "metadata": {
        "id": "boMT3AeEblkl"
      },
      "source": [
        "### 876 找到单向链表的中点\n"
      ]
    },
    {
      "cell_type": "code",
      "execution_count": 5,
      "metadata": {
        "colab": {
          "base_uri": "https://localhost:8080/"
        },
        "id": "U7a8lSq0b-b2",
        "outputId": "2f256b52-ff5e-4c32-d757-57c5a2edd401"
      },
      "outputs": [
        {
          "name": "stdout",
          "output_type": "stream",
          "text": [
            "环的中点  0\n"
          ]
        }
      ],
      "source": [
        "from typing import Optional\n",
        "\n",
        "class ListNode:\n",
        "    def __init__(self, x, n=None):\n",
        "        self.val = x\n",
        "        self.next = n\n",
        "\n",
        "class Solution:\n",
        "    def middleNode(self, head: Optional[ListNode]) -> Optional[ListNode]:\n",
        "        fast = slow = head\n",
        "        while fast and fast.next:\n",
        "            if fast.next.next:\n",
        "                fast = fast.next.next\n",
        "                slow = slow.next\n",
        "                if fast == slow :\n",
        "                    return None\n",
        "\n",
        "            else:\n",
        "                # 到头了 元素个数是偶数\n",
        "                return slow.next\n",
        "        return slow\n",
        "\n",
        "# head = [3,2,0,-4], pos = -1\n",
        "head = ListNode(3, ListNode(2, ListNode(0, ListNode(-4))))\n",
        "print(\"环的中点 \", Solution().middleNode(head).val)"
      ]
    },
    {
      "cell_type": "markdown",
      "metadata": {
        "id": "omlZsJ5ncgsC"
      },
      "source": [
        "### 234 判断回文链表"
      ]
    },
    {
      "cell_type": "code",
      "execution_count": 7,
      "metadata": {
        "colab": {
          "base_uri": "https://localhost:8080/"
        },
        "id": "QykRHlbOcxDL",
        "outputId": "447d7499-888c-447e-f562-7e563a6f6db5"
      },
      "outputs": [
        {
          "name": "stdout",
          "output_type": "stream",
          "text": [
            "是否是回文链表：  True\n"
          ]
        }
      ],
      "source": [
        "from typing import Optional\n",
        "\n",
        "class ListNode:\n",
        "    def __init__(self, x, n=None):\n",
        "        self.val = x\n",
        "        self.next = n\n",
        "\n",
        "class Solution:\n",
        "    def isPalindrome(self, head: Optional[ListNode]) -> bool:\n",
        "        fast = slow = head\n",
        "        while fast and fast.next:\n",
        "            if fast.next.next:\n",
        "                fast = fast.next.next\n",
        "                slow = slow.next\n",
        "                if fast == slow:\n",
        "                    return False\n",
        "            else:\n",
        "                slow=slow.next\n",
        "                break\n",
        "        # 反转右半段\n",
        "        rh = ListNode(-1)\n",
        "        while slow:\n",
        "            origin_next = rh.next\n",
        "            rh.next = slow\n",
        "            slow = slow.next\n",
        "            rh.next.next = origin_next\n",
        "        # 比较前后半段\n",
        "        rh = rh.next\n",
        "        lh = head\n",
        "        while rh:\n",
        "            if rh.val != lh.val:\n",
        "                return False\n",
        "            rh = rh.next\n",
        "            lh = lh.next\n",
        "        return True\n",
        "\n",
        "head = ListNode(3, ListNode(2, ListNode(2, ListNode(3))))\n",
        "print(\"是否是回文链表： \", Solution().isPalindrome(head))"
      ]
    }
  ],
  "metadata": {
    "colab": {
      "include_colab_link": true,
      "provenance": [],
      "toc_visible": true
    },
    "kernelspec": {
      "display_name": "Python 3",
      "name": "python3"
    },
    "language_info": {
      "name": "python",
      "version": "3.13.2"
    }
  },
  "nbformat": 4,
  "nbformat_minor": 0
}
