{
 "nbformat": 4,
 "nbformat_minor": 0,
 "metadata": {
  "colab": {
   "provenance": [],
   "toc_visible": true,
   "authorship_tag": "ABX9TyM1+bks4FJT4VHacIoxPb0V"
  },
  "kernelspec": {
   "name": "python3",
   "display_name": "Python 3"
  },
  "language_info": {
   "name": "python"
  }
 },
 "cells": [
  {
   "metadata": {},
   "cell_type": "markdown",
   "source": [
    "## 埃氏筛法\n",
    "\n",
    "### 題目\n",
    "> 找0-n以内所有的素数。\n",
    "### 解题思路 \n",
    "\n",
    "1.\t创建一个从 2 到 n 的数列（假设 n 为目标范围）。\n",
    "2.\t从 2 开始，标记所有 2 的倍数（除了 2 本身）。\n",
    "3.\t找到下一个未被标记的数，将其作为素数，并标记它的所有倍数。\n",
    "4.\t重复步骤 3，直到遍历到 \\sqrt{n} (n的根号)为止。\n",
    "5.\t剩余未标记的数即为所有的素数。"
   ]
  },
  {
   "metadata": {},
   "cell_type": "markdown",
   "source": ""
  }
 ]
}
