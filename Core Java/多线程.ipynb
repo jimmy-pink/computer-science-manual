{
 "nbformat": 4,
 "nbformat_minor": 0,
 "metadata": {
  "colab": {
   "provenance": [],
   "toc_visible": true,
   "authorship_tag": "ABX9TyM1+bks4FJT4VHacIoxPb0V"
  },
  "kernelspec": {
   "name": "python3",
   "display_name": "Python 3"
  },
  "language_info": {
   "name": "python"
  }
 },
 "cells": [
  {
   "cell_type": "code",
   "execution_count": null,
   "metadata": {
    "id": "Td4ExWoaPZ4_"
   },
   "outputs": [],
   "source": [
    "## synchronized锁\n",
    "\n",
    "![image.png](attachment:d3abf933-4a46-4cf7-9768-bbb1832809d8:image.png)"
   ]
  },
  {
   "cell_type": "code",
   "source": [],
   "metadata": {
    "id": "u7t1AIE2QEp-"
   },
   "execution_count": null,
   "outputs": []
  },
  {
   "metadata": {},
   "cell_type": "markdown",
   "source": ""
  }
 ]
}
