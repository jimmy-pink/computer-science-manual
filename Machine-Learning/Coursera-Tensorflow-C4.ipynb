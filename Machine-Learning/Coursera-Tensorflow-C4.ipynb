{
 "nbformat": 4,
 "nbformat_minor": 0,
 "metadata": {
  "colab": {
   "provenance": [],
   "toc_visible": true,
   "authorship_tag": "ABX9TyPIGrEfUyuHav6ixaTff4e8"
  },
  "kernelspec": {
   "name": "python3",
   "display_name": "Python 3"
  },
  "language_info": {
   "name": "python"
  }
 },
 "cells": [
  {
   "cell_type": "markdown",
   "source": "# ⚜️ 《C2 Convolutional Neural Network》",
   "metadata": {
    "id": "Cmbes9S-gmPq"
   }
  }
 ]
}
