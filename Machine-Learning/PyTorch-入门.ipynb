{
  "nbformat": 4,
  "nbformat_minor": 0,
  "metadata": {
    "colab": {
      "provenance": [],
      "toc_visible": true,
      "include_colab_link": true
    },
    "kernelspec": {
      "name": "python3",
      "display_name": "Python 3"
    },
    "language_info": {
      "name": "python"
    }
  },
  "cells": [
    {
      "cell_type": "markdown",
      "metadata": {
        "id": "view-in-github",
        "colab_type": "text"
      },
      "source": [
        "<a href=\"https://colab.research.google.com/github/jimmy-pink/computer-science-manual/blob/main/Machine-Learning/PyTorch-%E5%85%A5%E9%97%A8.ipynb\" target=\"_parent\"><img src=\"https://colab.research.google.com/assets/colab-badge.svg\" alt=\"Open In Colab\"/></a>"
      ]
    },
    {
      "metadata": {
        "id": "QaZ_xmJ9biey"
      },
      "cell_type": "markdown",
      "source": [
        "## 张量 Tensor\n"
      ]
    },
    {
      "cell_type": "code",
      "source": [
        "import torch\n",
        "# 标量 0d\n",
        "x_0 = 3.14\n",
        "print(\"标量：\", x_0)\n",
        "# 向量 1d\n",
        "x = torch.arange(6)\n",
        "x_ones = torch.ones(3)\n",
        "x_zeros = torch.zeros(3)\n",
        "print(\"向量：\", x, \"，全一向量\", x_ones, \"，零向量：\", x_zeros)\n",
        "# 矩阵 2d\n",
        "X = torch.tensor([[1,2,3,4],[5,6,7,8]],dtype=torch.int)\n",
        "print(\"矩阵：\", X)\n",
        "# 3阶张量\n",
        "rgb_tensor = torch.tensor([\n",
        "    [[255,   0],  [  0, 255]],  # R通道（红色值）\n",
        "    [[  0, 255],  [255,   0]],  # G通道（绿色值）\n",
        "    [[  0,   0],  [255, 255]],  # B通道（蓝色值）\n",
        "], dtype=torch.uint8)\n",
        "print(\"3阶张量的shape: \", rgb_tensor.shape)\n",
        "print(\"3阶张量：\", rgb_tensor)"
      ],
      "metadata": {
        "id": "-rsiK0NqboJY",
        "outputId": "2561ad27-5716-46eb-b6bf-2e1ae0dd9f85",
        "colab": {
          "base_uri": "https://localhost:8080/"
        }
      },
      "execution_count": 1,
      "outputs": [
        {
          "output_type": "stream",
          "name": "stdout",
          "text": [
            "标量： 3.14\n",
            "向量： tensor([0, 1, 2, 3, 4, 5]) ，全一向量 tensor([1., 1., 1.]) ，零向量： tensor([0., 0., 0.])\n",
            "矩阵： tensor([[1, 2, 3, 4],\n",
            "        [5, 6, 7, 8]], dtype=torch.int32)\n",
            "3阶张量的shape:  torch.Size([3, 2, 2])\n",
            "3阶张量： tensor([[[255,   0],\n",
            "         [  0, 255]],\n",
            "\n",
            "        [[  0, 255],\n",
            "         [255,   0]],\n",
            "\n",
            "        [[  0,   0],\n",
            "         [255, 255]]], dtype=torch.uint8)\n"
          ]
        }
      ]
    },
    {
      "cell_type": "markdown",
      "source": [
        "#### 访问张量的元素或子集\n",
        "\n",
        "四阶张量的命名： batch, channels, rows, columns"
      ],
      "metadata": {
        "id": "0FdDYvqbjWcU"
      }
    },
    {
      "cell_type": "code",
      "source": [
        "img_t = torch.randn(4, 5, 5) # shape [channels, rows, columns]\n",
        "\n",
        "print(\"访问向量的第2个元素：\", x[2])\n",
        "print(\"访问矩阵第1行第2列那个元素：\", X[1][2])\n",
        "print(\"访问颜色张量第2通道第1行第1列那个元素：\", rgb_tensor[2,1,1])\n",
        "print(\"访问颜色张量的一块连续子区域：\", rgb_tensor[1:3,0:2])\n",
        "print(\"3阶张量：\", img_t)\n",
        "print(\"访问3阶张量的一块不连续子区域：\", img_t[0:4:3,1:5:2,1:5:2])"
      ],
      "metadata": {
        "id": "JN7ZVHLKjbrq",
        "outputId": "915c72de-67e5-4f59-ef41-92fb9ac75244",
        "colab": {
          "base_uri": "https://localhost:8080/"
        }
      },
      "execution_count": 2,
      "outputs": [
        {
          "output_type": "stream",
          "name": "stdout",
          "text": [
            "访问向量的第2个元素： tensor(2)\n",
            "访问矩阵第1行第2列那个元素： tensor(7, dtype=torch.int32)\n",
            "访问颜色张量第2通道第1行第1列那个元素： tensor(255, dtype=torch.uint8)\n",
            "访问颜色张量的一块连续子区域： tensor([[[  0, 255],\n",
            "         [255,   0]],\n",
            "\n",
            "        [[  0,   0],\n",
            "         [255, 255]]], dtype=torch.uint8)\n",
            "3阶张量： tensor([[[-0.3110, -0.9756, -1.2022,  1.2288, -0.7654],\n",
            "         [-1.4895, -1.9921,  1.8830, -0.7383,  0.3264],\n",
            "         [-1.7036,  0.9096,  0.2310, -1.9789,  0.2010],\n",
            "         [-1.2698,  0.8001, -0.3388,  0.5808, -0.8155],\n",
            "         [ 0.3885, -0.1499,  1.6647,  1.6144, -1.0663]],\n",
            "\n",
            "        [[-0.4257,  0.6621,  1.2457,  0.4879, -0.0656],\n",
            "         [ 0.2715,  0.1006,  0.7760,  0.8289, -1.6803],\n",
            "         [-0.1898,  0.6343,  0.3446,  0.4266,  0.2590],\n",
            "         [ 2.3556, -0.1518, -0.4877,  1.3065, -1.3524],\n",
            "         [ 0.8320, -1.9531, -0.2785, -0.7535,  0.5942]],\n",
            "\n",
            "        [[ 0.6583, -2.1944, -0.3406, -0.8399,  2.6574],\n",
            "         [-0.5084,  1.5626,  1.0451, -0.3923,  2.1799],\n",
            "         [-1.4715,  1.0348, -0.4803,  2.3652, -0.3002],\n",
            "         [ 0.4423,  0.7951, -0.0147,  0.2543, -0.0051],\n",
            "         [ 0.7639,  0.5208,  1.3708,  0.6653,  1.4141]],\n",
            "\n",
            "        [[ 0.4508,  0.3761,  2.0315, -1.2758, -0.9388],\n",
            "         [-0.8596, -1.8437,  0.7378,  0.2832, -1.4039],\n",
            "         [ 0.2400, -0.9691, -0.4226, -0.4359, -0.4286],\n",
            "         [-0.6394, -0.8099, -1.1123, -0.4489,  0.0858],\n",
            "         [-2.1087, -0.7448,  0.2491,  0.8571,  0.4197]]])\n",
            "访问3阶张量的一块不连续子区域： tensor([[[-1.9921, -0.7383],\n",
            "         [ 0.8001,  0.5808]],\n",
            "\n",
            "        [[-1.8437,  0.2832],\n",
            "         [-0.8099, -0.4489]]])\n"
          ]
        }
      ]
    },
    {
      "cell_type": "markdown",
      "source": [
        "### 张量API"
      ],
      "metadata": {
        "id": "4I7xHWtyntdm"
      }
    },
    {
      "cell_type": "code",
      "source": [
        "import numpy as np\n",
        "\n",
        "\n",
        "# 将numpy张量转换成torch张量\n",
        "x = torch.torch.from_numpy(np.array([-1, -2, -3])).float()\n",
        "#也可以把torch张量转为np张量\n",
        "x_np = x.numpy()\n",
        "\n",
        "# 绝对值\n",
        "x_abs = torch.abs(x)\n",
        "print(x, \"的绝对值张量：\", x_abs)\n",
        "\n",
        "# 计算标准差\n",
        "std = torch.std(x)\n",
        "print(\"标准差：\", std)\n",
        "\n",
        "# 是否相等\n",
        "eq = torch.equal(x, x_abs)\n",
        "print(\"张量x和它的绝对值不相等：\", eq)\n",
        "\n",
        "# 计算张量的范数，用于衡量向量或矩阵的大小、长度或“幅度”，默认是 Frobenius 范数（适用于矩阵），也可以指定 p=1 (所有元素绝对值之和) 等。\n",
        "norm = torch.norm(x)\n",
        "print(\"X的范数：\", norm)\n",
        "\n",
        "# 计算张量所有元素的平均值、最大，最小值\n",
        "x = torch.tensor([[1,2,3],[4,5,6]], dtype=torch.float)\n",
        "avg = torch.mean(x)\n",
        "min = torch.min(x)\n",
        "max = torch.max(x)\n",
        "\n",
        "print(\"AVG:\", avg,\",MAX:\",max,\",MIN:\",min)\n",
        "\n",
        "# 张量的转置\n",
        "a = torch.ones(3, 2)\n",
        "a_t = torch.transpose(a, 0, 1)\n",
        "print(a.shape, a_t.shape)\n",
        "\n",
        "# 生成正态分布的随机数\n",
        "x = torch.normal(mean=0.0, std=1.0, size=(3,))\n",
        "\n",
        "# 计算两个张量的叉乘（3D 向量），常用于计算向量正交方向。\n",
        "a = torch.tensor([1.0, 0.0, 0.0])\n",
        "b = torch.tensor([0.0, 1.0, 0.0])\n",
        "c = torch.linalg.cross(a, b)\n",
        "print(\"向量ab叉乘：\", c)\n"
      ],
      "metadata": {
        "id": "x6yNhchInwrs",
        "colab": {
          "base_uri": "https://localhost:8080/"
        },
        "outputId": "99a25edf-c0eb-45e0-c9e6-85aad2e54701"
      },
      "execution_count": 16,
      "outputs": [
        {
          "output_type": "stream",
          "name": "stdout",
          "text": [
            "torch.Size([3, 2]) torch.Size([2, 3])\n",
            "tensor([-1., -2., -3.]) 的绝对值张量： tensor([1., 2., 3.])\n",
            "标准差： tensor(1.)\n",
            "张量x和它的绝对值不相等： False\n",
            "X的范数： tensor(3.7417)\n",
            "AVG: tensor(3.5000) ,MAX: tensor(6.) ,MIN: tensor(1.)\n",
            "向量ab叉乘： tensor([0., 0., 1.])\n"
          ]
        }
      ]
    },
    {
      "cell_type": "code",
      "source": [
        "# 设置 PyTorch 运算所使用的线程数（多线程加速 CPU 运算）\n",
        "torch.set_num_threads(4)\n",
        "\n",
        "points = torch.tensor([[4.0, 1.0], [5.0, 3.0], [2.0, 1.0]])\n",
        "x = points.storage()\n",
        "print(x)"
      ],
      "metadata": {
        "colab": {
          "base_uri": "https://localhost:8080/"
        },
        "id": "C84_CzOfDEIo",
        "outputId": "7085a032-a26e-48f7-d5f5-9e2af78068f8"
      },
      "execution_count": 15,
      "outputs": [
        {
          "output_type": "stream",
          "name": "stdout",
          "text": [
            " 4.0\n",
            " 1.0\n",
            " 5.0\n",
            " 3.0\n",
            " 2.0\n",
            " 1.0\n",
            "[torch.storage.TypedStorage(dtype=torch.float32, device=cpu) of size 6]\n"
          ]
        }
      ]
    },
    {
      "cell_type": "code",
      "source": [
        "# 张量的保存与加载\n",
        "x = torch.tensor([1, 2, 3])\n",
        "torch.save(x, 'tensor.pt')\n",
        "x = torch.load('tensor.pt')"
      ],
      "metadata": {
        "id": "gokCBshuCjhy"
      },
      "execution_count": null,
      "outputs": []
    }
  ]
}